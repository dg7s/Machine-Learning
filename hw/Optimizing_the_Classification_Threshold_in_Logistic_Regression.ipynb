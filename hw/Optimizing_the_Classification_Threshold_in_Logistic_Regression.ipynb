{
  "cells": [
    {
      "cell_type": "markdown",
      "id": "xl_-W_aXqjJ2",
      "metadata": {
        "id": "xl_-W_aXqjJ2"
      },
      "source": [
        "# Lab 3 - Linear and Logistic Regression\n",
        "Dominik Gaweł\n",
        "\n",
        "[![Open In Colab](https://colab.research.google.com/assets/colab-badge.svg)](https://colab.research.google.com/github/dg7s/Machine-Learning/blob/main/hw/Optimizing_the_Classification_Threshold_in_Logistic_Regression.ipynb)\n",
        "-------------------------------"
      ]
    },
    {
      "cell_type": "markdown",
      "id": "B1K2cKMGKi0Z",
      "metadata": {
        "id": "B1K2cKMGKi0Z"
      },
      "source": [
        "# **Homework Assignment: Optimizing the Classification Threshold in Logistic Regression**\n",
        "\n",
        "-------------------------------\n",
        "\n",
        "In this assignment, you will explore the concept of **classification thresholds** in **Logistic Regression** and investigate whether the commonly used threshold of **0.5** is always the optimal choice. To complete this assignment, you will need to conduct **additional reading** on **ROC curves** and the **AUC metric**, beyond the materials covered in class.\n",
        "\n",
        "This exercise focuses on the **importance of threshold selection** and how it impacts model performance based on different evaluation criteria.\n",
        "\n",
        "\n",
        "\n",
        "## **The Objective**\n",
        "\n",
        "**Is a 0.5 threshold always the best choice in Logistic Regression?**\n",
        "\n",
        "- Analyze if the standard threshold of **0.5** always yields the most desirable results in various scenarios.\n",
        "- Investigate alternative thresholds and how they can improve model performance depending on the problem context.\n",
        "\n",
        "\n",
        "\n",
        "## **Helper Questions**\n",
        "\n",
        "1. **Would a different threshold yield better results?**  \n",
        "   - How does shifting the threshold affect the **trade-off between sensitivity and specificity**?\n",
        "\n",
        "2. **How do you define \"better\" results?**  \n",
        "   - Is **higher specificity** more valuable than **higher sensitivity** in certain contexts? Or maybe the other way around?\n",
        "   - Does the **best threshold** depend on the task? (discuss cases like *disease detection* vs. *spam filtering*)\n",
        "\n",
        "3. **How does a ROC curve help in this process?**  \n",
        "   - Learn how to use a **ROC curve** to visualize the trade-off between **True Positive Rate (Sensitivity)** and **False Positive Rate (1 - Specificity)**.\n",
        "\n",
        "4. **How do you select the optimal threshold using the ROC curve?**  \n",
        "   - Discuss strategies to select a threshold depending on the specific task at hand and the acceptable **trade-off between sensitivity and specificity**.\n",
        "\n",
        "5. **What is the AUC metric and how is it useful?**  \n",
        "   - Define **AUC (Area Under the Curve)** and discuss its role in evaluating the overall performance of a classifier.\n",
        "\n",
        "\n",
        "\n",
        "## **Tasks & Deliverables**\n",
        "\n",
        "1. **Colab Notebook**\n",
        "   - Select a suitable classification 2-class dataset.\n",
        "   - Divide the dataset into three parts: **train**, **validation**, and **test**.\n",
        "   - Train the **Logistic Regression** model on the **training** set.\n",
        "   - Use the **validation** set to:\n",
        "     - Plot the **ROC curve**.\n",
        "     - Calculate the **AUC**.\n",
        "     - Determine the **optimal threshold** using the ROC curve for your dataset.\n",
        "   - Apply the selected threshold to the **test** set to evaluate final model performance using metrics like:\n",
        "     - **Accuracy**\n",
        "     - **Precision & Recall**\n",
        "     - **F1-Score**\n",
        "     - **Specificity & Sensitivity**\n",
        "\n",
        "2. **Answer the Questions:**\n",
        "   - Use markdown cells to provide explanations.\n",
        "   - Answer all helper questions with supporting evidence from your plots and results.\n",
        "\n",
        "3. **Visualizations:**\n",
        "   - **ROC curve** based on the **validation** set with threshold points marked.\n",
        "   - Highlight the **optimal threshold** on the ROC curve.\n",
        "\n",
        "4. **Publish on GitHub**  \n",
        "   - Place the Colab notebook in your **GitHub repository** for this course.\n",
        "   - In your repository’s **README**, add a **link** to the notebook and also include an **“Open in Colab”** badge at the top of the notebook so it can be launched directly from GitHub.\n",
        "\n",
        "\n"
      ]
    },
    {
      "cell_type": "code",
      "execution_count": null,
      "id": "8m4vkEZr1DSM",
      "metadata": {
        "colab": {
          "base_uri": "https://localhost:8080/"
        },
        "id": "8m4vkEZr1DSM",
        "outputId": "86550c8c-6849-473f-8aa9-e397d41a6289"
      },
      "outputs": [
        {
          "name": "stdout",
          "output_type": "stream",
          "text": [
            "                                   0            1            2           3            4\n",
            "mean radius                17.990000    20.570000    19.690000   11.420000    20.290000\n",
            "mean texture               10.380000    17.770000    21.250000   20.380000    14.340000\n",
            "mean perimeter            122.800000   132.900000   130.000000   77.580000   135.100000\n",
            "mean area                1001.000000  1326.000000  1203.000000  386.100000  1297.000000\n",
            "mean smoothness             0.118400     0.084740     0.109600    0.142500     0.100300\n",
            "mean compactness            0.277600     0.078640     0.159900    0.283900     0.132800\n",
            "mean concavity              0.300100     0.086900     0.197400    0.241400     0.198000\n",
            "mean concave points         0.147100     0.070170     0.127900    0.105200     0.104300\n",
            "mean symmetry               0.241900     0.181200     0.206900    0.259700     0.180900\n",
            "mean fractal dimension      0.078710     0.056670     0.059990    0.097440     0.058830\n",
            "radius error                1.095000     0.543500     0.745600    0.495600     0.757200\n",
            "texture error               0.905300     0.733900     0.786900    1.156000     0.781300\n",
            "perimeter error             8.589000     3.398000     4.585000    3.445000     5.438000\n",
            "area error                153.400000    74.080000    94.030000   27.230000    94.440000\n",
            "smoothness error            0.006399     0.005225     0.006150    0.009110     0.011490\n",
            "compactness error           0.049040     0.013080     0.040060    0.074580     0.024610\n",
            "concavity error             0.053730     0.018600     0.038320    0.056610     0.056880\n",
            "concave points error        0.015870     0.013400     0.020580    0.018670     0.018850\n",
            "symmetry error              0.030030     0.013890     0.022500    0.059630     0.017560\n",
            "fractal dimension error     0.006193     0.003532     0.004571    0.009208     0.005115\n",
            "worst radius               25.380000    24.990000    23.570000   14.910000    22.540000\n",
            "worst texture              17.330000    23.410000    25.530000   26.500000    16.670000\n",
            "worst perimeter           184.600000   158.800000   152.500000   98.870000   152.200000\n",
            "worst area               2019.000000  1956.000000  1709.000000  567.700000  1575.000000\n",
            "worst smoothness            0.162200     0.123800     0.144400    0.209800     0.137400\n",
            "worst compactness           0.665600     0.186600     0.424500    0.866300     0.205000\n",
            "worst concavity             0.711900     0.241600     0.450400    0.686900     0.400000\n",
            "worst concave points        0.265400     0.186000     0.243000    0.257500     0.162500\n",
            "worst symmetry              0.460100     0.275000     0.361300    0.663800     0.236400\n",
            "worst fractal dimension     0.118900     0.089020     0.087580    0.173000     0.076780\n",
            "target                      0.000000     0.000000     0.000000    0.000000     0.000000\n",
            "\n",
            "Cancer: 357, Healthy: 212\n"
          ]
        }
      ],
      "source": [
        "import numpy as np\n",
        "import pandas as pd\n",
        "import matplotlib.pyplot as plt\n",
        "from sklearn.datasets import load_breast_cancer\n",
        "from sklearn.linear_model import LogisticRegression\n",
        "from sklearn.metrics import roc_curve, roc_auc_score, accuracy_score, precision_score, recall_score, f1_score, confusion_matrix\n",
        "from sklearn.model_selection import train_test_split\n",
        "\n",
        "# For simplicity we stick to the Dataset given by 'sklearn.datasets'\n",
        "data = load_breast_cancer()\n",
        "X, y = data.data, data.target\n",
        "\n",
        "df = pd.DataFrame(X, columns=data.feature_names)\n",
        "df['target'] = y\n",
        "\n",
        "pd.set_option('display.max_columns', None)\n",
        "pd.set_option('display.width', 1000)\n",
        "\n",
        "print(df.head(5).T)\n",
        "\n",
        "# Distribution of the target variable\n",
        "target_counts = df['target'].value_counts()\n",
        "\n",
        "cancer_count = target_counts.get(1, 0)  # 1 corresponds to cancer\n",
        "healthy_count = target_counts.get(0, 0)  # 0 corresponds to healthy\n",
        "\n",
        "print(f\"\\nCancer: {cancer_count}, Healthy: {healthy_count}\")"
      ]
    },
    {
      "cell_type": "code",
      "execution_count": null,
      "id": "ymSqqtTQ7U4b",
      "metadata": {
        "id": "ymSqqtTQ7U4b"
      },
      "outputs": [],
      "source": [
        "# Split dataset: 60 : 20 : 20\n",
        "X_train, X_tests, y_train, y_tests = train_test_split(X, y, test_size=0.4, random_state=42, stratify=y)\n",
        "X_val, X_test, y_val, y_test = train_test_split(X_tests, y_tests, test_size=0.5, random_state=42, stratify=y_tests)\n",
        "\n",
        "# Fit Logistic Regression\n",
        "logistic_model = LogisticRegression(max_iter=10000)\n",
        "logistic_model.fit(X_train, y_train)\n",
        "\n",
        "y_val_probs = logistic_model.predict_proba(X_val)[:, 1]  # Probabilities for class 1\n",
        "y_val_preds = logistic_model.predict(X_val)  # Predicted classes (0 or 1)"
      ]
    },
    {
      "cell_type": "markdown",
      "id": "zPD5aoX5-uIM",
      "metadata": {
        "id": "zPD5aoX5-uIM"
      },
      "source": [
        "1. Different thresholds yield different results, but it's hard to say which result is “better” without specifying a performance metric. Two fundamental rates we focus on are the **True Positive Rate (TPR)** and **False Positive Rate (FPR)**. These are related to **sensitivity** and **specificity** as follows:\n",
        "\n",
        "    - **TPR = Sensitivity**\n",
        "    - **FPR = 1 - Specificity**\n",
        "\n",
        "    As the threshold increases, both **TPR** and **FPR** tend to decrease. We will discuss this trade-off further in the following points.\n",
        "\n",
        "\n",
        "2. In general, it is not clear whether higher **sensitivity** **(TPR)** or higher **specificity** is preferable—it depends on the context. For instance, when detecting cancer:\n",
        "\n",
        "    - when performing preliminary screening for cancer detection, we might prioritize **sensitivity** by aiming for a high **TPR**, since it is crucial to detect as many potential cases as possible and avoid missing any individuals who may be sick.\n",
        "    - However, in confirmatory testing, we tend to focus on **specificity** by aiming for a low **FPR**, thereby ensuring that healthy patients are not subjected to unnecessary and potentially harmful treatments.\n",
        "\n",
        "    For email spam filtering, a similar trade-off exists.\n",
        "    - If the priority is to prevent important emails from being misclassified as spam, we might lean towards a threshold that emphasizes higher **specificity**, even if it means allowing some spam messages to slip through.\n",
        "    - if the goal is to block as much spam as possible, we would prioritize **sensitivity**, accepting that this might result in a few legitimate emails being mistakenly flagged as spam.\n",
        "\n",
        "    Yes, the best treshold depend on the task.\n",
        "\n",
        "3. We can use `roc_curve()` from `scikit-learn` to compute the **TPR**, **FPR**, and the corresponding thresholds based on our model’s predicted probabilities. The **ROC curve** visually shows how **TPR** and **FPR** change across different thresholds.\n",
        "\n",
        "4. As discussed in point `2`, there is always a trade-off between **sensitivity** and **specificity**. Here, we will use **Youden's J statistic** which is\n",
        "    $$\n",
        "    J = \\text{sensitivity} + (\\text{specifity} - 1).\n",
        "    $$\n",
        "    This is the standard metric which balances the reward for high **TPR** and penalizes high **FPR**. Alternatively, one may choose to maximize an arbitrary function of **TPR** and **FPR**, depending on the specific problem requirements.\n",
        "\n",
        "5. **AUC** - area under the **ROC curve**. It represents the probability that the model, if given a randomly chosen positive and negative example, will rank the positive higher than the negative. According to **AUC** we can compare two different models. The model with greater area under the curve is generally the better one, as long as the dataset is roughtly balanced. We will use `roc_auc_score()` from `scikit-learn`. The disscusion about the evaluation on the `test set` will be below the results."
      ]
    },
    {
      "cell_type": "code",
      "execution_count": null,
      "id": "k6M7xsuj-llS",
      "metadata": {
        "colab": {
          "base_uri": "https://localhost:8080/"
        },
        "id": "k6M7xsuj-llS",
        "outputId": "0ea0925c-e859-4e6d-bff5-d2e60e809068"
      },
      "outputs": [
        {
          "name": "stdout",
          "output_type": "stream",
          "text": [
            "Validation AUC: 0.9947089947089947\n",
            "Optimal threshold: 0.8019222419752329\n"
          ]
        }
      ],
      "source": [
        "fpr, tpr, thresholds = roc_curve(y_val, y_val_probs)\n",
        "auc_score = roc_auc_score(y_val, y_val_probs)\n",
        "print(\"Validation AUC:\", auc_score)\n",
        "\n",
        "youden_index = tpr - fpr\n",
        "optimal_idx = np.argmax(youden_index)\n",
        "optimal_threshold = thresholds[optimal_idx]\n",
        "print(\"Optimal threshold:\", optimal_threshold)"
      ]
    },
    {
      "cell_type": "code",
      "execution_count": null,
      "id": "PAu5S4mg-v9c",
      "metadata": {
        "colab": {
          "base_uri": "https://localhost:8080/",
          "height": 564
        },
        "id": "PAu5S4mg-v9c",
        "outputId": "270570dd-98d3-47cf-b27f-cbac3f7a297c"
      },
      "outputs": [
        {
          "data": {
            "image/png": "[encoded data removed]",
            "text/plain": [
              "<Figure size 800x600 with 1 Axes>"
            ]
          },
          "metadata": {},
          "output_type": "display_data"
        }
      ],
      "source": [
        "plt.figure(figsize=(8,6))\n",
        "plt.plot(fpr, tpr, label=f'ROC curve (AUC = {auc_score:.2f})')\n",
        "\n",
        "plt.scatter(fpr, tpr, color='black', s=10, alpha=0.5, label='Thresholds')\n",
        "\n",
        "plt.scatter(fpr[optimal_idx], tpr[optimal_idx], color='red', label=f'Optimal threshold ({optimal_threshold:.2f})')\n",
        "\n",
        "plt.plot([0, 1], [0, 1], 'k--')\n",
        "\n",
        "plt.xlabel('False Positive Rate')\n",
        "plt.ylabel('True Positive Rate (Sensitivity)')\n",
        "plt.title('ROC Curve on Validation Set')\n",
        "plt.legend()\n",
        "plt.show()"
      ]
    },
    {
      "cell_type": "code",
      "execution_count": null,
      "id": "xiR49o6R_t4P",
      "metadata": {
        "colab": {
          "base_uri": "https://localhost:8080/"
        },
        "id": "xiR49o6R_t4P",
        "outputId": "0edc42ec-51ad-4bad-a1e5-a2fc78ecb15e"
      },
      "outputs": [
        {
          "name": "stdout",
          "output_type": "stream",
          "text": [
            "Test Accuracy: 0.96\n",
            "Test Precision: 0.99\n",
            "Test Sensitivity (Recall): 0.96\n",
            "Test Specificity: 0.98\n",
            "Test F1-Score: 0.97\n"
          ]
        }
      ],
      "source": [
        "# 4. Evaluation on Test Set\n",
        "y_test_probs = logistic_model.predict_proba(X_test)[:, 1]\n",
        "y_test_pred = (y_test_probs >= optimal_threshold).astype(int)\n",
        "\n",
        "accuracy = accuracy_score(y_test, y_test_pred)\n",
        "precision = precision_score(y_test, y_test_pred)\n",
        "recall = recall_score(y_test, y_test_pred)  # Sensitivity\n",
        "f1 = f1_score(y_test, y_test_pred)\n",
        "\n",
        "tn, fp, fn, tp = confusion_matrix(y_test, y_test_pred).ravel()\n",
        "specificity = tn / (tn + fp)\n",
        "\n",
        "print(f\"Test Accuracy: {accuracy:.2f}\")\n",
        "print(f\"Test Precision: {precision:.2f}\")\n",
        "print(f\"Test Sensitivity (Recall): {recall:.2f}\")\n",
        "print(f\"Test Specificity: {specificity:.2f}\")\n",
        "print(f\"Test F1-Score: {f1:.2f}\")"
      ]
    },
    {
      "cell_type": "markdown",
      "id": "1wX5WdcKcS27",
      "metadata": {
        "id": "1wX5WdcKcS27"
      },
      "source": [
        "The model achieved a **Test Accuracy** of **0.96**, the **Test Precision** is **0.99**, meaning that when the model predicts a positive, it is correct 99% of the time. The Test **Sensitivity** is **0.96**, reflecting that the model successfully identifies 96% of all actual positives. In addition, the **Test Specificity** is **0.98**, showing that 98% of actual negatives are correctly classified. Finally, the **Test F1-Score** of **0.97**, as a the harmonic mean of precision and **TPR** confirms a strong balance between those two.\n",
        "\n",
        "Overall, these model performs well.\n"
      ]
    }
  ],
  "metadata": {
    "colab": {
      "provenance": []
    },
    "kernelspec": {
      "display_name": "Python 3",
      "name": "python3"
    },
    "language_info": {
      "name": "python"
    }
  },
  "nbformat": 4,
  "nbformat_minor": 5
}
